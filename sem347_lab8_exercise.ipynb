{
  "cells": [
    {
      "cell_type": "markdown",
      "metadata": {
        "id": "dOgMfYhp5QvK"
      },
      "source": [
        "# Diamond Company Analytics Challenge\n",
        "\n",
        "**Time:** 35 minutes\n",
        "\n",
        "**Scenario:** You are the new data analyst at a prestigious diamond company. The CEO has called an urgent meeting and needs answers to critical business questions about the inventory.\n",
        "\n",
        "**Your Mission:** Analyze the diamond inventory data and provide insights to guide strategic decisions."
      ]
    },
    {
      "cell_type": "code",
      "execution_count": 2,
      "metadata": {
        "colab": {
          "base_uri": "https://localhost:8080/"
        },
        "id": "xsb7q4U95QvM",
        "outputId": "99d5425a-5524-4ed5-e4fd-ac5ca7ef103c"
      },
      "outputs": [
        {
          "output_type": "stream",
          "name": "stdout",
          "text": [
            "Loading diamonds dataset...\n",
            "Dataset loaded successfully!\n"
          ]
        }
      ],
      "source": [
        "import polars as pl\n",
        "\n",
        "# Load the diamonds dataset\n",
        "print(\"Loading diamonds dataset...\")\n",
        "df = pl.read_csv('https://raw.githubusercontent.com/pycaret/pycaret/master/datasets/diamond.csv')\n",
        "print(\"Dataset loaded successfully!\")"
      ]
    },
    {
      "cell_type": "markdown",
      "metadata": {
        "id": "lCR4n_5b5QvN"
      },
      "source": [
        "## Section 1: Initial Inventory Assessment (5 minutes)\n",
        "\n",
        "The CEO walks in: \"Before we dive into specifics, I need to understand what we're working with. Give me the basics about our inventory database.\""
      ]
    },
    {
      "cell_type": "markdown",
      "metadata": {
        "id": "Wuhg3Yzq5QvN"
      },
      "source": [
        "### Question 1: \"How extensive is our inventory database?\"\n",
        "\n",
        "The CEO needs to know the scale of data you're analyzing."
      ]
    },
    {
      "cell_type": "code",
      "execution_count": 3,
      "metadata": {
        "colab": {
          "base_uri": "https://localhost:8080/",
          "height": 291
        },
        "id": "vEIlTxCj5QvO",
        "outputId": "9b572590-8189-416d-e2e6-d76618e08655"
      },
      "outputs": [
        {
          "output_type": "stream",
          "name": "stdout",
          "text": [
            "shape: (6000, 8)\n",
            "columns: ['Carat Weight', 'Cut', 'Color', 'Clarity', 'Polish', 'Symmetry', 'Report', 'Price']\n"
          ]
        },
        {
          "output_type": "execute_result",
          "data": {
            "text/plain": [
              "shape: (5, 8)\n",
              "┌──────────────┬───────┬───────┬─────────┬────────┬──────────┬────────┬───────┐\n",
              "│ Carat Weight ┆ Cut   ┆ Color ┆ Clarity ┆ Polish ┆ Symmetry ┆ Report ┆ Price │\n",
              "│ ---          ┆ ---   ┆ ---   ┆ ---     ┆ ---    ┆ ---      ┆ ---    ┆ ---   │\n",
              "│ f64          ┆ str   ┆ str   ┆ str     ┆ str    ┆ str      ┆ str    ┆ i64   │\n",
              "╞══════════════╪═══════╪═══════╪═════════╪════════╪══════════╪════════╪═══════╡\n",
              "│ 1.1          ┆ Ideal ┆ H     ┆ SI1     ┆ VG     ┆ EX       ┆ GIA    ┆ 5169  │\n",
              "│ 0.83         ┆ Ideal ┆ H     ┆ VS1     ┆ ID     ┆ ID       ┆ AGSL   ┆ 3470  │\n",
              "│ 0.85         ┆ Ideal ┆ H     ┆ SI1     ┆ EX     ┆ EX       ┆ GIA    ┆ 3183  │\n",
              "│ 0.91         ┆ Ideal ┆ E     ┆ SI1     ┆ VG     ┆ VG       ┆ GIA    ┆ 4370  │\n",
              "│ 0.83         ┆ Ideal ┆ G     ┆ SI1     ┆ EX     ┆ EX       ┆ GIA    ┆ 3171  │\n",
              "└──────────────┴───────┴───────┴─────────┴────────┴──────────┴────────┴───────┘"
            ],
            "text/html": [
              "<div><style>\n",
              ".dataframe > thead > tr,\n",
              ".dataframe > tbody > tr {\n",
              "  text-align: right;\n",
              "  white-space: pre-wrap;\n",
              "}\n",
              "</style>\n",
              "<small>shape: (5, 8)</small><table border=\"1\" class=\"dataframe\"><thead><tr><th>Carat Weight</th><th>Cut</th><th>Color</th><th>Clarity</th><th>Polish</th><th>Symmetry</th><th>Report</th><th>Price</th></tr><tr><td>f64</td><td>str</td><td>str</td><td>str</td><td>str</td><td>str</td><td>str</td><td>i64</td></tr></thead><tbody><tr><td>1.1</td><td>&quot;Ideal&quot;</td><td>&quot;H&quot;</td><td>&quot;SI1&quot;</td><td>&quot;VG&quot;</td><td>&quot;EX&quot;</td><td>&quot;GIA&quot;</td><td>5169</td></tr><tr><td>0.83</td><td>&quot;Ideal&quot;</td><td>&quot;H&quot;</td><td>&quot;VS1&quot;</td><td>&quot;ID&quot;</td><td>&quot;ID&quot;</td><td>&quot;AGSL&quot;</td><td>3470</td></tr><tr><td>0.85</td><td>&quot;Ideal&quot;</td><td>&quot;H&quot;</td><td>&quot;SI1&quot;</td><td>&quot;EX&quot;</td><td>&quot;EX&quot;</td><td>&quot;GIA&quot;</td><td>3183</td></tr><tr><td>0.91</td><td>&quot;Ideal&quot;</td><td>&quot;E&quot;</td><td>&quot;SI1&quot;</td><td>&quot;VG&quot;</td><td>&quot;VG&quot;</td><td>&quot;GIA&quot;</td><td>4370</td></tr><tr><td>0.83</td><td>&quot;Ideal&quot;</td><td>&quot;G&quot;</td><td>&quot;SI1&quot;</td><td>&quot;EX&quot;</td><td>&quot;EX&quot;</td><td>&quot;GIA&quot;</td><td>3171</td></tr></tbody></table></div>"
            ]
          },
          "metadata": {},
          "execution_count": 3
        }
      ],
      "source": [
        "# Your code here:\n",
        "print(f\"shape: {df.shape}\")\n",
        "print(f\"columns: {df.columns}\")\n",
        "df.head()"
      ]
    },
    {
      "cell_type": "markdown",
      "metadata": {
        "id": "pHl8-l9P5QvO"
      },
      "source": [
        "### Question 2: \"What information do we track about each diamond?\"\n",
        "\n",
        "List all the characteristics we record."
      ]
    },
    {
      "cell_type": "code",
      "execution_count": 5,
      "metadata": {
        "colab": {
          "base_uri": "https://localhost:8080/",
          "height": 291
        },
        "id": "Wcw9yofC5QvO",
        "outputId": "49b3bd1b-4cba-49ff-83c2-15498354a175"
      },
      "outputs": [
        {
          "output_type": "stream",
          "name": "stdout",
          "text": [
            "shape: (6000, 8)\n",
            "columns: ['Carat Weight', 'Cut', 'Color', 'Clarity', 'Polish', 'Symmetry', 'Report', 'Price']\n"
          ]
        },
        {
          "output_type": "execute_result",
          "data": {
            "text/plain": [
              "shape: (5, 8)\n",
              "┌──────────────┬───────┬───────┬─────────┬────────┬──────────┬────────┬───────┐\n",
              "│ Carat Weight ┆ Cut   ┆ Color ┆ Clarity ┆ Polish ┆ Symmetry ┆ Report ┆ Price │\n",
              "│ ---          ┆ ---   ┆ ---   ┆ ---     ┆ ---    ┆ ---      ┆ ---    ┆ ---   │\n",
              "│ f64          ┆ str   ┆ str   ┆ str     ┆ str    ┆ str      ┆ str    ┆ i64   │\n",
              "╞══════════════╪═══════╪═══════╪═════════╪════════╪══════════╪════════╪═══════╡\n",
              "│ 1.1          ┆ Ideal ┆ H     ┆ SI1     ┆ VG     ┆ EX       ┆ GIA    ┆ 5169  │\n",
              "│ 0.83         ┆ Ideal ┆ H     ┆ VS1     ┆ ID     ┆ ID       ┆ AGSL   ┆ 3470  │\n",
              "│ 0.85         ┆ Ideal ┆ H     ┆ SI1     ┆ EX     ┆ EX       ┆ GIA    ┆ 3183  │\n",
              "│ 0.91         ┆ Ideal ┆ E     ┆ SI1     ┆ VG     ┆ VG       ┆ GIA    ┆ 4370  │\n",
              "│ 0.83         ┆ Ideal ┆ G     ┆ SI1     ┆ EX     ┆ EX       ┆ GIA    ┆ 3171  │\n",
              "└──────────────┴───────┴───────┴─────────┴────────┴──────────┴────────┴───────┘"
            ],
            "text/html": [
              "<div><style>\n",
              ".dataframe > thead > tr,\n",
              ".dataframe > tbody > tr {\n",
              "  text-align: right;\n",
              "  white-space: pre-wrap;\n",
              "}\n",
              "</style>\n",
              "<small>shape: (5, 8)</small><table border=\"1\" class=\"dataframe\"><thead><tr><th>Carat Weight</th><th>Cut</th><th>Color</th><th>Clarity</th><th>Polish</th><th>Symmetry</th><th>Report</th><th>Price</th></tr><tr><td>f64</td><td>str</td><td>str</td><td>str</td><td>str</td><td>str</td><td>str</td><td>i64</td></tr></thead><tbody><tr><td>1.1</td><td>&quot;Ideal&quot;</td><td>&quot;H&quot;</td><td>&quot;SI1&quot;</td><td>&quot;VG&quot;</td><td>&quot;EX&quot;</td><td>&quot;GIA&quot;</td><td>5169</td></tr><tr><td>0.83</td><td>&quot;Ideal&quot;</td><td>&quot;H&quot;</td><td>&quot;VS1&quot;</td><td>&quot;ID&quot;</td><td>&quot;ID&quot;</td><td>&quot;AGSL&quot;</td><td>3470</td></tr><tr><td>0.85</td><td>&quot;Ideal&quot;</td><td>&quot;H&quot;</td><td>&quot;SI1&quot;</td><td>&quot;EX&quot;</td><td>&quot;EX&quot;</td><td>&quot;GIA&quot;</td><td>3183</td></tr><tr><td>0.91</td><td>&quot;Ideal&quot;</td><td>&quot;E&quot;</td><td>&quot;SI1&quot;</td><td>&quot;VG&quot;</td><td>&quot;VG&quot;</td><td>&quot;GIA&quot;</td><td>4370</td></tr><tr><td>0.83</td><td>&quot;Ideal&quot;</td><td>&quot;G&quot;</td><td>&quot;SI1&quot;</td><td>&quot;EX&quot;</td><td>&quot;EX&quot;</td><td>&quot;GIA&quot;</td><td>3171</td></tr></tbody></table></div>"
            ]
          },
          "metadata": {},
          "execution_count": 5
        }
      ],
      "source": [
        "# Your code here:\n",
        "# Make sure to run the cell above that loads the dataset first!\n",
        "print(f\"shape: {df.shape}\")\n",
        "print(f\"columns: {df.columns}\")\n",
        "df.head()"
      ]
    },
    {
      "cell_type": "markdown",
      "metadata": {
        "id": "fiL1sp2h5QvO"
      },
      "source": [
        "### Question 3: \"When I look at one line in this database, what am I looking at?\"\n",
        "\n",
        "Explain in business terms:"
      ]
    },
    {
      "cell_type": "markdown",
      "metadata": {
        "id": "qBdMXuAz5QvO"
      },
      "source": [
        "**Your answer:** Each row represents: a specific diamond and its characteristics"
      ]
    },
    {
      "cell_type": "markdown",
      "metadata": {
        "id": "-Vc3QxgY5QvO"
      },
      "source": [
        "## Section 2: Strategic Business Questions (20 minutes)\n",
        "\n",
        "The CEO continues: \"Now let's get to the important questions. Our board meeting is tomorrow and I need concrete numbers.\""
      ]
    },
    {
      "cell_type": "markdown",
      "metadata": {
        "id": "LyCZwAEd5QvO"
      },
      "source": [
        "### Question 4: \"We're considering expanding our storage facilities. How many total carats do we have in inventory? I need to know if our vaults can handle the weight.\"\n",
        "\n",
        "Think about what measurement would help answer this."
      ]
    },
    {
      "cell_type": "code",
      "execution_count": 12,
      "metadata": {
        "colab": {
          "base_uri": "https://localhost:8080/"
        },
        "id": "iHqljkbh5QvP",
        "outputId": "bc1d39ca-6522-4282-f11c-07d4fc944732"
      },
      "outputs": [
        {
          "output_type": "stream",
          "name": "stdout",
          "text": [
            "Total carats in inventory: 8007.120000000001\n"
          ]
        }
      ],
      "source": [
        "# Your code here:\n",
        "total_caratweight = df['Carat Weight'].sum()\n",
        "print(f\"Total carats in inventory: {total_caratweight}\")"
      ]
    },
    {
      "cell_type": "markdown",
      "metadata": {
        "id": "AfwgsNfR5QvP"
      },
      "source": [
        "### Question 5: \"Our new marketing campaign claims we have 'the widest variety of cuts in the industry.' Can you verify this?\"\n",
        "\n",
        "The CEO wants to know about variety, not quantity."
      ]
    },
    {
      "cell_type": "code",
      "execution_count": 18,
      "metadata": {
        "colab": {
          "base_uri": "https://localhost:8080/"
        },
        "id": "FCrW4D5R5QvP",
        "outputId": "2eb753eb-fbdb-4836-cc4e-d57d9d372d9d"
      },
      "outputs": [
        {
          "output_type": "stream",
          "name": "stdout",
          "text": [
            "The number of unique cuts in inventory is 5\n"
          ]
        }
      ],
      "source": [
        "# Your code here:\n",
        "unique_cuts = df[\"Cut\"].n_unique()\n",
        "print(f\"The number of unique cuts in inventory is {unique_cuts}\")"
      ]
    },
    {
      "cell_type": "markdown",
      "metadata": {
        "id": "BeDkGB7T5QvP"
      },
      "source": [
        "### Question 6: \"I'm meeting with our insurance company. They need to know our price exposure - what's our most and least valuable diamond?\""
      ]
    },
    {
      "cell_type": "code",
      "execution_count": 19,
      "metadata": {
        "colab": {
          "base_uri": "https://localhost:8080/"
        },
        "id": "adpeFY_k5QvP",
        "outputId": "4be6a18d-82ca-40c1-94bf-3e21a2d66f39"
      },
      "outputs": [
        {
          "output_type": "stream",
          "name": "stdout",
          "text": [
            "The most valuable diamond is worth 101561 and the least valuable diamond is worth 2184\n"
          ]
        }
      ],
      "source": [
        "# Your code here:\n",
        "max_price = df['Price'].max()\n",
        "min_price = df['Price'].min()\n",
        "print(f\"The most valuable diamond is worth {max_price} and the least valuable diamond is worth {min_price}\")"
      ]
    },
    {
      "cell_type": "markdown",
      "metadata": {
        "id": "kFCfmWbH5QvP"
      },
      "source": [
        "### Question 7: \"Which color grades should we focus on in our premium line? I need typical prices across our color spectrum.\"\n",
        "\n",
        "The CEO wants to understand pricing patterns."
      ]
    },
    {
      "cell_type": "code",
      "execution_count": 21,
      "metadata": {
        "colab": {
          "base_uri": "https://localhost:8080/"
        },
        "id": "YG54fL9P5QvP",
        "outputId": "e2907a2c-02af-42e3-f15d-9533de03fe86"
      },
      "outputs": [
        {
          "output_type": "stream",
          "name": "stdout",
          "text": [
            "shape: (6, 2)\n",
            "┌───────┬──────────────┐\n",
            "│ Color ┆ Price        │\n",
            "│ ---   ┆ ---          │\n",
            "│ str   ┆ f64          │\n",
            "╞═══════╪══════════════╡\n",
            "│ G     ┆ 12520.050633 │\n",
            "│ D     ┆ 15255.783661 │\n",
            "│ H     ┆ 10487.347544 │\n",
            "│ F     ┆ 12712.241856 │\n",
            "│ I     ┆ 8989.636364  │\n",
            "│ E     ┆ 11539.190231 │\n",
            "└───────┴──────────────┘\n"
          ]
        }
      ],
      "source": [
        "# Your code here:\n",
        "avg_price_by_color = df.group_by('Color').agg(pl.col('Price').mean())\n",
        "print(avg_price_by_color)"
      ]
    },
    {
      "cell_type": "markdown",
      "metadata": {
        "id": "AX_wC79r5QvP"
      },
      "source": [
        "**Reflection:** After analyzing by color, how has your view of the data changed? What does each row in your result represent now?"
      ]
    },
    {
      "cell_type": "markdown",
      "metadata": {
        "id": "q3HEZLbw5QvP"
      },
      "source": [
        "**Your answer:** New grain = color price"
      ]
    },
    {
      "cell_type": "markdown",
      "metadata": {
        "id": "KnyiZSxa5QvP"
      },
      "source": [
        "## Section 3: Advanced Strategic Analysis (10 minutes)\n",
        "\n",
        "The CEO leans forward: \"These next questions will shape our strategy for next year.\""
      ]
    },
    {
      "cell_type": "markdown",
      "metadata": {
        "id": "OgfVln-S5QvP"
      },
      "source": [
        "### Question 8: \"We're thinking of specializing in certain clarity grades. For our investor deck, I need a complete breakdown showing: how many diamonds we have in each clarity grade, their typical price, and the total carats we're holding for each grade.\""
      ]
    },
    {
      "cell_type": "code",
      "execution_count": 4,
      "metadata": {
        "colab": {
          "base_uri": "https://localhost:8080/"
        },
        "id": "zTsAODGi5QvQ",
        "outputId": "f5091315-33da-47d7-aa95-783db0fb5df9"
      },
      "outputs": [
        {
          "output_type": "stream",
          "name": "stdout",
          "text": [
            "shape: (7, 4)\n",
            "┌─────────┬───────────────┬───────────────┬────────────────────┐\n",
            "│ Clarity ┆ Diamond Count ┆ Average Price ┆ Total Carat Weight │\n",
            "│ ---     ┆ ---           ┆ ---           ┆ ---                │\n",
            "│ str     ┆ u32           ┆ f64           ┆ f64                │\n",
            "╞═════════╪═══════════════╪═══════════════╪════════════════════╡\n",
            "│ FL      ┆ 4             ┆ 63776.0       ┆ 7.87               │\n",
            "│ IF      ┆ 219           ┆ 22105.844749  ┆ 316.0              │\n",
            "│ VVS1    ┆ 285           ┆ 16845.680702  ┆ 389.43             │\n",
            "│ VVS2    ┆ 666           ┆ 14142.177177  ┆ 876.58             │\n",
            "│ VS1     ┆ 1192          ┆ 13694.113255  ┆ 1682.74            │\n",
            "│ VS2     ┆ 1575          ┆ 11809.053333  ┆ 2170.81            │\n",
            "│ SI1     ┆ 2059          ┆ 8018.864012   ┆ 2563.69            │\n",
            "└─────────┴───────────────┴───────────────┴────────────────────┘\n"
          ]
        },
        {
          "output_type": "stream",
          "name": "stderr",
          "text": [
            "/tmp/ipython-input-107576960.py:3: DeprecationWarning: `pl.count()` is deprecated. Please use `pl.len()` instead.\n",
            "  pl.count().alias('Diamond Count'),\n"
          ]
        }
      ],
      "source": [
        "# Your code here:\n",
        "complete_breakdown = df.group_by('Clarity').agg([\n",
        "    pl.count().alias('Diamond Count'),\n",
        "    pl.col('Price').mean().alias('Average Price'),\n",
        "    pl.col('Carat Weight').sum().alias('Total Carat Weight')\n",
        "]).sort(\"Average Price\", descending=True)\n",
        "\n",
        "print(complete_breakdown)"
      ]
    },
    {
      "cell_type": "markdown",
      "metadata": {
        "id": "vQ3u6aX55QvQ"
      },
      "source": [
        "### Question 9: \"My luxury competitor claims they have the best prices for every cut-color combination. Show me our pricing structure across these combinations - I want to see where we're competitive.\""
      ]
    },
    {
      "cell_type": "code",
      "execution_count": 6,
      "metadata": {
        "colab": {
          "base_uri": "https://localhost:8080/"
        },
        "id": "OWElSvKK5QvQ",
        "outputId": "1d54be04-b909-4c82-e076-615accced642"
      },
      "outputs": [
        {
          "output_type": "stream",
          "name": "stdout",
          "text": [
            "shape: (30, 3)\n",
            "┌───────────┬───────┬───────────────┐\n",
            "│ Cut       ┆ Color ┆ Average Price │\n",
            "│ ---       ┆ ---   ┆ ---           │\n",
            "│ str       ┆ str   ┆ f64           │\n",
            "╞═══════════╪═══════╪═══════════════╡\n",
            "│ Fair      ┆ G     ┆ 7345.52381    │\n",
            "│ Fair      ┆ F     ┆ 6063.625      │\n",
            "│ Fair      ┆ D     ┆ 6058.25       │\n",
            "│ Fair      ┆ H     ┆ 5908.5        │\n",
            "│ Fair      ┆ E     ┆ 5370.625      │\n",
            "│ …         ┆ …     ┆ …             │\n",
            "│ Very Good ┆ F     ┆ 12413.905495  │\n",
            "│ Very Good ┆ G     ┆ 12354.013841  │\n",
            "│ Very Good ┆ E     ┆ 12101.910217  │\n",
            "│ Very Good ┆ H     ┆ 10056.106132  │\n",
            "│ Very Good ┆ I     ┆ 8930.031332   │\n",
            "└───────────┴───────┴───────────────┘\n"
          ]
        }
      ],
      "source": [
        "# Your code here:\n",
        "pricing_structure = df.group_by(['Cut', 'Color']).agg(\n",
        "    pl.col(\"Price\").mean().alias(\"Average Price\")\n",
        ").sort([\"Cut\",\"Average Price\"], descending=[False, True])\n",
        "\n",
        "print(pricing_structure)"
      ]
    },
    {
      "cell_type": "markdown",
      "source": [],
      "metadata": {
        "id": "GzZRSowcjceV"
      }
    },
    {
      "cell_type": "markdown",
      "metadata": {
        "id": "WgTAsycK5QvQ"
      },
      "source": [
        "**Reflection:** How specific is your analysis now? What level of detail does each row represent?"
      ]
    },
    {
      "cell_type": "markdown",
      "metadata": {
        "id": "StNZ5ahw5QvQ"
      },
      "source": [
        "**Your answer:** New grain = Unique Cut - Color Combination and the Price\n",
        "\n",
        "> Add blockquote\n",
        "\n",
        "> Add blockquote\n",
        "\n",
        "\n",
        "\n"
      ]
    },
    {
      "cell_type": "markdown",
      "metadata": {
        "id": "U4Dr7jRk5QvQ"
      },
      "source": [
        "### Question 10: URGENT - \"Our biggest client is interested in purchasing entire inventory segments. They asked: 'Which color-cut combinations represent your highest total inventory value?' Show me the top 5 most valuable inventory segments by total worth, and include how many diamonds are in each segment.\"\n",
        "\n",
        "This is critical for tomorrow's negotiation."
      ]
    },
    {
      "cell_type": "code",
      "execution_count": 8,
      "metadata": {
        "colab": {
          "base_uri": "https://localhost:8080/"
        },
        "id": "p4v_N3RA5QvQ",
        "outputId": "978e032f-cc1c-43d0-f391-c297e0a8b138"
      },
      "outputs": [
        {
          "output_type": "stream",
          "name": "stdout",
          "text": [
            "shape: (5, 4)\n",
            "┌───────┬───────────┬───────────────┬─────────────┐\n",
            "│ Color ┆ Cut       ┆ Diamond Count ┆ Total Value │\n",
            "│ ---   ┆ ---       ┆ ---           ┆ ---         │\n",
            "│ str   ┆ str       ┆ u32           ┆ i64         │\n",
            "╞═══════╪═══════════╪═══════════════╪═════════════╡\n",
            "│ G     ┆ Ideal     ┆ 690           ┆ 9363514     │\n",
            "│ G     ┆ Very Good ┆ 578           ┆ 7140620     │\n",
            "│ F     ┆ Very Good ┆ 455           ┆ 5648327     │\n",
            "│ F     ┆ Ideal     ┆ 363           ┆ 5346782     │\n",
            "│ H     ┆ Ideal     ┆ 458           ┆ 5279687     │\n",
            "└───────┴───────────┴───────────────┴─────────────┘\n"
          ]
        },
        {
          "output_type": "stream",
          "name": "stderr",
          "text": [
            "/tmp/ipython-input-2318731588.py:3: DeprecationWarning: `pl.count()` is deprecated. Please use `pl.len()` instead.\n",
            "  pl.count().alias(\"Diamond Count\"),\n"
          ]
        }
      ],
      "source": [
        "# Your code here:\n",
        "top_5_segments = (df.group_by([\"Color\", \"Cut\"]).agg([\n",
        "    pl.count().alias(\"Diamond Count\"),\n",
        "    pl.col(\"Price\").sum().alias(\"Total Value\")\n",
        "])\n",
        ".sort(\"Total Value\", descending=True)\n",
        ".head(5)\n",
        ")\n",
        "print(top_5_segments)"
      ]
    },
    {
      "cell_type": "markdown",
      "metadata": {
        "id": "IbuCgsAa5QvQ"
      },
      "source": [
        "## Debrief\n",
        "\n",
        "Congratulations! You've just completed your first day as the diamond company's data analyst.\n",
        "\n",
        "Remember:\n",
        "- CEOs speak in business language, not technical terms\n",
        "- Always understand what each row represents before analyzing\n",
        "- Business questions contain clues about which operations to use"
      ]
    }
  ],
  "metadata": {
    "kernelspec": {
      "display_name": "Python 3",
      "language": "python",
      "name": "python3"
    },
    "language_info": {
      "codemirror_mode": {
        "name": "ipython",
        "version": 3
      },
      "file_extension": ".py",
      "mimetype": "text/x-python",
      "name": "python",
      "nbconvert_exporter": "python",
      "pygments_lexer": "ipython3",
      "version": "3.12.0"
    },
    "colab": {
      "provenance": []
    }
  },
  "nbformat": 4,
  "nbformat_minor": 0
}